{
  "nbformat": 4,
  "nbformat_minor": 0,
  "metadata": {
    "colab": {
      "name": "Pytorch_Geometrics_Intents.ipynb",
      "provenance": [],
      "authorship_tag": "ABX9TyOWtBC8C0qUxKTl9DQQXAi/",
      "include_colab_link": true
    },
    "kernelspec": {
      "name": "python3",
      "display_name": "Python 3"
    }
  },
  "cells": [
    {
      "cell_type": "markdown",
      "metadata": {
        "id": "view-in-github",
        "colab_type": "text"
      },
      "source": [
        "<a href=\"https://colab.research.google.com/github/gunner55/graph-intent/blob/main/Pytorch_Geometrics_Intents.ipynb\" target=\"_parent\"><img src=\"https://colab.research.google.com/assets/colab-badge.svg\" alt=\"Open In Colab\"/></a>"
      ]
    },
    {
      "cell_type": "code",
      "metadata": {
        "id": "kfo6kWaTSEbf"
      },
      "source": [
        "import pandas as pd\n",
        "import numpy as np\n",
        "import requests\n",
        "import io\n",
        "from sklearn.preprocessing import LabelEncoder"
      ],
      "execution_count": 1,
      "outputs": []
    },
    {
      "cell_type": "code",
      "metadata": {
        "id": "pcfGrhBysODS"
      },
      "source": [
        "url=\"https://raw.githubusercontent.com/gunner55/graph-intent/main/intent-graph-buy.csv\"\n",
        "bi=requests.get(url).content\n",
        "buy=pd.read_csv(io.StringIO(bi.decode('utf-8')))\n",
        "buy.columns=['keywords','search volume','page','price','membership duration']\n",
        " \n",
        "  "
      ],
      "execution_count": 3,
      "outputs": []
    },
    {
      "cell_type": "code",
      "metadata": {
        "colab": {
          "base_uri": "https://localhost:8080/",
          "height": 331
        },
        "id": "7aWsji3wtO6h",
        "outputId": "2dde7a69-74e1-4274-dfcc-557e7e54d22c"
      },
      "source": [
        "buy.head(10)"
      ],
      "execution_count": 14,
      "outputs": [
        {
          "output_type": "execute_result",
          "data": {
            "text/html": [
              "<div>\n",
              "<style scoped>\n",
              "    .dataframe tbody tr th:only-of-type {\n",
              "        vertical-align: middle;\n",
              "    }\n",
              "\n",
              "    .dataframe tbody tr th {\n",
              "        vertical-align: top;\n",
              "    }\n",
              "\n",
              "    .dataframe thead th {\n",
              "        text-align: right;\n",
              "    }\n",
              "</style>\n",
              "<table border=\"1\" class=\"dataframe\">\n",
              "  <thead>\n",
              "    <tr style=\"text-align: right;\">\n",
              "      <th></th>\n",
              "      <th>keywords</th>\n",
              "      <th>search volume</th>\n",
              "      <th>page</th>\n",
              "      <th>price</th>\n",
              "      <th>membership duration</th>\n",
              "    </tr>\n",
              "  </thead>\n",
              "  <tbody>\n",
              "    <tr>\n",
              "      <th>0</th>\n",
              "      <td>Fitness Club</td>\n",
              "      <td>33100</td>\n",
              "      <td>fitness</td>\n",
              "      <td>30</td>\n",
              "      <td>3</td>\n",
              "    </tr>\n",
              "    <tr>\n",
              "      <th>1</th>\n",
              "      <td>Fitness Group</td>\n",
              "      <td>2400</td>\n",
              "      <td>fitness</td>\n",
              "      <td>100</td>\n",
              "      <td>12</td>\n",
              "    </tr>\n",
              "    <tr>\n",
              "      <th>2</th>\n",
              "      <td>Fitness Class</td>\n",
              "      <td>22200</td>\n",
              "      <td>fitness class</td>\n",
              "      <td>15</td>\n",
              "      <td>1</td>\n",
              "    </tr>\n",
              "    <tr>\n",
              "      <th>3</th>\n",
              "      <td>Fitness Gym</td>\n",
              "      <td>40500</td>\n",
              "      <td>fitness gym membership</td>\n",
              "      <td>30</td>\n",
              "      <td>3</td>\n",
              "    </tr>\n",
              "    <tr>\n",
              "      <th>4</th>\n",
              "      <td>Fitness Program</td>\n",
              "      <td>14800</td>\n",
              "      <td>workout schedule</td>\n",
              "      <td>54</td>\n",
              "      <td>6</td>\n",
              "    </tr>\n",
              "    <tr>\n",
              "      <th>5</th>\n",
              "      <td>Fitness Center</td>\n",
              "      <td>74000</td>\n",
              "      <td>homepage</td>\n",
              "      <td>54</td>\n",
              "      <td>6</td>\n",
              "    </tr>\n",
              "    <tr>\n",
              "      <th>6</th>\n",
              "      <td>Fitness Centre</td>\n",
              "      <td>74000</td>\n",
              "      <td>homepage</td>\n",
              "      <td>54</td>\n",
              "      <td>6</td>\n",
              "    </tr>\n",
              "    <tr>\n",
              "      <th>7</th>\n",
              "      <td>Fitness Community</td>\n",
              "      <td>720</td>\n",
              "      <td>fitness</td>\n",
              "      <td>30</td>\n",
              "      <td>3</td>\n",
              "    </tr>\n",
              "    <tr>\n",
              "      <th>8</th>\n",
              "      <td>Fitness Team</td>\n",
              "      <td>480</td>\n",
              "      <td>personal training team</td>\n",
              "      <td>15</td>\n",
              "      <td>1</td>\n",
              "    </tr>\n",
              "    <tr>\n",
              "      <th>9</th>\n",
              "      <td>Fitness Studio</td>\n",
              "      <td>301000</td>\n",
              "      <td>fitness studo</td>\n",
              "      <td>100</td>\n",
              "      <td>12</td>\n",
              "    </tr>\n",
              "  </tbody>\n",
              "</table>\n",
              "</div>"
            ],
            "text/plain": [
              "            keywords  search volume  ... price  membership duration\n",
              "0       Fitness Club          33100  ...    30                    3\n",
              "1      Fitness Group           2400  ...   100                   12\n",
              "2      Fitness Class          22200  ...    15                    1\n",
              "3        Fitness Gym          40500  ...    30                    3\n",
              "4    Fitness Program          14800  ...    54                    6\n",
              "5     Fitness Center          74000  ...    54                    6\n",
              "6     Fitness Centre          74000  ...    54                    6\n",
              "7  Fitness Community            720  ...    30                    3\n",
              "8       Fitness Team            480  ...    15                    1\n",
              "9     Fitness Studio         301000  ...   100                   12\n",
              "\n",
              "[10 rows x 5 columns]"
            ]
          },
          "metadata": {
            "tags": []
          },
          "execution_count": 14
        }
      ]
    },
    {
      "cell_type": "code",
      "metadata": {
        "id": "F37QY_OJuMIp"
      },
      "source": [
        ""
      ],
      "execution_count": 5,
      "outputs": []
    },
    {
      "cell_type": "code",
      "metadata": {
        "id": "SdytxJTMuP5A"
      },
      "source": [
        "url=\"https://raw.githubusercontent.com/gunner55/graph-intent/main/intent-graph-clicks.csv\"\n",
        "ci=requests.get(url).content\n",
        "click=pd.read_csv(io.StringIO(ci.decode('utf-8')))\n",
        "click.columns=['keywords','search volume','page']\n",
        "  "
      ],
      "execution_count": 16,
      "outputs": []
    },
    {
      "cell_type": "code",
      "metadata": {
        "colab": {
          "base_uri": "https://localhost:8080/",
          "height": 331
        },
        "id": "L4vsH_XpvMqZ",
        "outputId": "31aa101a-1170-4fbe-c499-64bfdd580bab"
      },
      "source": [
        "click.head(10)"
      ],
      "execution_count": 18,
      "outputs": [
        {
          "output_type": "execute_result",
          "data": {
            "text/html": [
              "<div>\n",
              "<style scoped>\n",
              "    .dataframe tbody tr th:only-of-type {\n",
              "        vertical-align: middle;\n",
              "    }\n",
              "\n",
              "    .dataframe tbody tr th {\n",
              "        vertical-align: top;\n",
              "    }\n",
              "\n",
              "    .dataframe thead th {\n",
              "        text-align: right;\n",
              "    }\n",
              "</style>\n",
              "<table border=\"1\" class=\"dataframe\">\n",
              "  <thead>\n",
              "    <tr style=\"text-align: right;\">\n",
              "      <th></th>\n",
              "      <th>keywords</th>\n",
              "      <th>search volume</th>\n",
              "      <th>page</th>\n",
              "    </tr>\n",
              "  </thead>\n",
              "  <tbody>\n",
              "    <tr>\n",
              "      <th>0</th>\n",
              "      <td>Fitness Camp</td>\n",
              "      <td>2400</td>\n",
              "      <td>fitness botcamps</td>\n",
              "    </tr>\n",
              "    <tr>\n",
              "      <th>1</th>\n",
              "      <td>Fitness Challenge</td>\n",
              "      <td>22000</td>\n",
              "      <td>monthly fitness challenge</td>\n",
              "    </tr>\n",
              "    <tr>\n",
              "      <th>2</th>\n",
              "      <td>Fitness Cult</td>\n",
              "      <td>210</td>\n",
              "      <td>fitness workouts</td>\n",
              "    </tr>\n",
              "    <tr>\n",
              "      <th>3</th>\n",
              "      <td>Fitness Regime</td>\n",
              "      <td>2400</td>\n",
              "      <td>fitness exercise</td>\n",
              "    </tr>\n",
              "    <tr>\n",
              "      <th>4</th>\n",
              "      <td>Fitness Band</td>\n",
              "      <td>90500</td>\n",
              "      <td>fitness accessories</td>\n",
              "    </tr>\n",
              "    <tr>\n",
              "      <th>5</th>\n",
              "      <td>Fitness Organization</td>\n",
              "      <td>260</td>\n",
              "      <td>homepage</td>\n",
              "    </tr>\n",
              "    <tr>\n",
              "      <th>6</th>\n",
              "      <td>Fitness Plan</td>\n",
              "      <td>27100</td>\n",
              "      <td>workout schedule</td>\n",
              "    </tr>\n",
              "    <tr>\n",
              "      <th>7</th>\n",
              "      <td>Fitness Website</td>\n",
              "      <td>5400</td>\n",
              "      <td>homepage</td>\n",
              "    </tr>\n",
              "    <tr>\n",
              "      <th>8</th>\n",
              "      <td>Fitness Blog</td>\n",
              "      <td>12100</td>\n",
              "      <td>fitness news</td>\n",
              "    </tr>\n",
              "    <tr>\n",
              "      <th>9</th>\n",
              "      <td>Fitness Programme</td>\n",
              "      <td>14800</td>\n",
              "      <td>workout schedule</td>\n",
              "    </tr>\n",
              "  </tbody>\n",
              "</table>\n",
              "</div>"
            ],
            "text/plain": [
              "               keywords  search volume                       page\n",
              "0          Fitness Camp           2400           fitness botcamps\n",
              "1     Fitness Challenge          22000  monthly fitness challenge\n",
              "2          Fitness Cult            210           fitness workouts\n",
              "3        Fitness Regime           2400           fitness exercise\n",
              "4          Fitness Band          90500        fitness accessories\n",
              "5  Fitness Organization            260                   homepage\n",
              "6          Fitness Plan          27100           workout schedule\n",
              "7       Fitness Website           5400                   homepage\n",
              "8          Fitness Blog          12100               fitness news\n",
              "9     Fitness Programme          14800           workout schedule"
            ]
          },
          "metadata": {
            "tags": []
          },
          "execution_count": 18
        }
      ]
    },
    {
      "cell_type": "code",
      "metadata": {
        "colab": {
          "base_uri": "https://localhost:8080/",
          "height": 103
        },
        "id": "Ffl_Y4pZvzmq",
        "outputId": "1b9bd935-db00-461f-f61b-f739665bce0f"
      },
      "source": [
        "item_encoder = LabelEncoder()\n",
        "buy['keywords'] = item_encoder.fit_transform(buy.keywords)\n",
        "buy['page'] = item_encoder.fit_transform(buy.page)\n",
        "buy.head(2)"
      ],
      "execution_count": 19,
      "outputs": [
        {
          "output_type": "execute_result",
          "data": {
            "text/html": [
              "<div>\n",
              "<style scoped>\n",
              "    .dataframe tbody tr th:only-of-type {\n",
              "        vertical-align: middle;\n",
              "    }\n",
              "\n",
              "    .dataframe tbody tr th {\n",
              "        vertical-align: top;\n",
              "    }\n",
              "\n",
              "    .dataframe thead th {\n",
              "        text-align: right;\n",
              "    }\n",
              "</style>\n",
              "<table border=\"1\" class=\"dataframe\">\n",
              "  <thead>\n",
              "    <tr style=\"text-align: right;\">\n",
              "      <th></th>\n",
              "      <th>keywords</th>\n",
              "      <th>search volume</th>\n",
              "      <th>page</th>\n",
              "      <th>price</th>\n",
              "      <th>membership duration</th>\n",
              "    </tr>\n",
              "  </thead>\n",
              "  <tbody>\n",
              "    <tr>\n",
              "      <th>0</th>\n",
              "      <td>3</td>\n",
              "      <td>33100</td>\n",
              "      <td>0</td>\n",
              "      <td>30</td>\n",
              "      <td>3</td>\n",
              "    </tr>\n",
              "    <tr>\n",
              "      <th>1</th>\n",
              "      <td>5</td>\n",
              "      <td>2400</td>\n",
              "      <td>0</td>\n",
              "      <td>100</td>\n",
              "      <td>12</td>\n",
              "    </tr>\n",
              "  </tbody>\n",
              "</table>\n",
              "</div>"
            ],
            "text/plain": [
              "   keywords  search volume  page  price  membership duration\n",
              "0         3          33100     0     30                    3\n",
              "1         5           2400     0    100                   12"
            ]
          },
          "metadata": {
            "tags": []
          },
          "execution_count": 19
        }
      ]
    },
    {
      "cell_type": "code",
      "metadata": {
        "colab": {
          "base_uri": "https://localhost:8080/",
          "height": 103
        },
        "id": "ecalEhUnx9bx",
        "outputId": "a25cf49d-bafe-411f-b2e4-45e5351815e4"
      },
      "source": [
        "item_encoder = LabelEncoder()\n",
        "click['keywords'] = item_encoder.fit_transform(click.keywords)\n",
        "click['page'] = item_encoder.fit_transform(click.page)\n",
        "click.head(2)"
      ],
      "execution_count": 22,
      "outputs": [
        {
          "output_type": "execute_result",
          "data": {
            "text/html": [
              "<div>\n",
              "<style scoped>\n",
              "    .dataframe tbody tr th:only-of-type {\n",
              "        vertical-align: middle;\n",
              "    }\n",
              "\n",
              "    .dataframe tbody tr th {\n",
              "        vertical-align: top;\n",
              "    }\n",
              "\n",
              "    .dataframe thead th {\n",
              "        text-align: right;\n",
              "    }\n",
              "</style>\n",
              "<table border=\"1\" class=\"dataframe\">\n",
              "  <thead>\n",
              "    <tr style=\"text-align: right;\">\n",
              "      <th></th>\n",
              "      <th>keywords</th>\n",
              "      <th>search volume</th>\n",
              "      <th>page</th>\n",
              "    </tr>\n",
              "  </thead>\n",
              "  <tbody>\n",
              "    <tr>\n",
              "      <th>0</th>\n",
              "      <td>2</td>\n",
              "      <td>2400</td>\n",
              "      <td>1</td>\n",
              "    </tr>\n",
              "    <tr>\n",
              "      <th>1</th>\n",
              "      <td>3</td>\n",
              "      <td>22000</td>\n",
              "      <td>6</td>\n",
              "    </tr>\n",
              "  </tbody>\n",
              "</table>\n",
              "</div>"
            ],
            "text/plain": [
              "   keywords  search volume  page\n",
              "0         2           2400     1\n",
              "1         3          22000     6"
            ]
          },
          "metadata": {
            "tags": []
          },
          "execution_count": 22
        }
      ]
    },
    {
      "cell_type": "code",
      "metadata": {
        "id": "J9XsNeCdHerQ"
      },
      "source": [
        "\n",
        "import torch.nn as nn\n",
        "import torch.nn.functional as F\n",
        "import torchvision\n",
        "import torchvision.transforms as transforms\n",
        "import sklearn.metrics as metrics"
      ],
      "execution_count": 27,
      "outputs": []
    },
    {
      "cell_type": "code",
      "metadata": {
        "id": "o7xxsPoGEQ6k"
      },
      "source": [
        "import torch\n",
        "from tqdm import tqdm\n",
        "\n",
        "class IntentBinaryDataset():\n",
        "    def __init__(self, root, transform=None, pre_transform=None):\n",
        "        super(IntentBinaryDataset, self).__init__(root, transform, pre_transform)\n",
        "        self.data, self.slices = torch.load(self.processed_paths[0])"
      ],
      "execution_count": 30,
      "outputs": []
    },
    {
      "cell_type": "code",
      "metadata": {
        "id": "Il5f7IgyH_LI"
      },
      "source": [
        "  @property\n",
        "  def raw_file_names(self):\n",
        "        return []\n",
        "  @property\n",
        "  def processed_file_names(self):\n",
        "    return ['https://raw.githubusercontent.com/gunner55/graph-intent/main/intent-graph-clicks.csv']"
      ],
      "execution_count": 32,
      "outputs": []
    },
    {
      "cell_type": "code",
      "metadata": {
        "id": "lFgMhK__KDIY"
      },
      "source": [
        "def download(self):\n",
        "        pass\n",
        "    \n",
        "def process(self):\n",
        "        \n",
        "        intent_list = []\n",
        "\n",
        "        # process by keywords\n",
        "        grouped = df.groupby('keywords')\n",
        "        for keywords.group in tqdm(grouped):\n",
        "            keywords = LabelEncoder().fit_transform(group.keywords)\n",
        "            group = group.reset_index(drop=True)\n",
        "            group['keywords'] = keywords\n",
        "            node_features = group.loc[group.keywords==keywords,['keywords','page']].sort_values('keywords_id').page.drop_duplicates().values\n",
        "            node_features = torch.LongTensor(node_features).unsqueeze(1)\n",
        "            target_nodes = group.keywords.values[1:]\n",
        "            source_nodes = group.keywords.values[:-1]\n",
        "\n",
        "            edge_index = torch.tensor([source_nodes, target_nodes], dtype=torch.long)\n",
        "            x = node_features\n",
        "\n",
        "            y = torch.FloatTensor([group.label.values[0]])\n",
        "\n",
        "            data = Data(x=x, edge_index=edge_index, y=y)\n",
        "            data_list.append(data)\n",
        "        \n",
        "            data, slices = self.collate(data_list)\n",
        "            torch.save((data, slices), self.processed_paths[0])\n",
        "                  \n"
      ],
      "execution_count": 46,
      "outputs": []
    },
    {
      "cell_type": "code",
      "metadata": {
        "id": "5qVLnrcNPmjD"
      },
      "source": [
        "#using shuffle() to ensure the dataset is properly shuffled\n",
        "            \n",
        "dataset = dataset.shuffle()\n",
        "train_dataset = dataset[:4]\n",
        "val_dataset = dataset[5:7]\n",
        "test_dataset = dataset[7:]\n",
        "len(train_dataset), len(val_dataset), len(test_dataset)"
      ],
      "execution_count": null,
      "outputs": []
    }
  ]
}