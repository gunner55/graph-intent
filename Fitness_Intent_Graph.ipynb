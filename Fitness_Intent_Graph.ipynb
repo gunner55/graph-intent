{
  "nbformat": 4,
  "nbformat_minor": 0,
  "metadata": {
    "colab": {
      "name": "Fitness_Intent_Graph.ipynb",
      "provenance": [],
      "authorship_tag": "ABX9TyMP4dFZxZYe/0MZDOACV0oq",
      "include_colab_link": true
    },
    "kernelspec": {
      "name": "python3",
      "display_name": "Python 3"
    }
  },
  "cells": [
    {
      "cell_type": "markdown",
      "metadata": {
        "id": "view-in-github",
        "colab_type": "text"
      },
      "source": [
        "<a href=\"https://colab.research.google.com/github/gunner55/graph-intent/blob/main/Fitness_Intent_Graph.ipynb\" target=\"_parent\"><img src=\"https://colab.research.google.com/assets/colab-badge.svg\" alt=\"Open In Colab\"/></a>"
      ]
    },
    {
      "cell_type": "code",
      "metadata": {
        "id": "mO0PrXSAWjkh"
      },
      "source": [
        "from collections import defaultdict"
      ],
      "execution_count": 22,
      "outputs": []
    },
    {
      "cell_type": "code",
      "metadata": {
        "id": "Zupx4p-QY3qc"
      },
      "source": [
        "class Graph():\n",
        "    def __init__(self):\n",
        "        \"\"\"\n",
        "        self.edges is a dict of every possible next nodes\n",
        "        e.g. {'Fitness': ['Club', 'Group', 'Class',], ...}\n",
        "        self.weights contains the weights between two nodes,\n",
        "        ...the two nodes serving as the tuple\n",
        "        e.g. {('Fitness', 'Class'): 0.946, ('Fitness', 'Studio'): 0.993, ...}\n",
        "        \"\"\"\n",
        "        self.edges = defaultdict(list)\n",
        "        self.weights = {}\n",
        "    def add_edge(self, from_node, to_node, weight):\n",
        "        # connecting nodes from both sides\n",
        "        self.edges[from_node].append(to_node)\n",
        "        self.edges[to_node].append(from_node)\n",
        "        # attending to the source and destination nodes\n",
        "        self.weights[(from_node, to_node)] = weight\n",
        "        self.weights[(to_node, from_node)] = weight\n",
        "        # summing the indegree and outdegree weights were possible."
      ],
      "execution_count": 23,
      "outputs": []
    },
    {
      "cell_type": "code",
      "metadata": {
        "id": "H0waoCQVcQoK"
      },
      "source": [
        "graph = Graph()\n",
        "#nodes are created as edge connections and weights are formed\n",
        "edges = [\n",
        "    ('Fitness', 'Club', 0.690),\n",
        "    ('Fitness', 'Group', 0.799),\n",
        "    ('Fitness', 'Class', 0.846),\n",
        "    ('Fitness', 'Gym', 0.880),\n",
        "    ('Fitness', 'Program', 0.946),\n",
        "    ('Fitness', 'Center', 0.954),\n",
        "    ('Fitness', 'Centre', 0.979),\n",
        "    ('Fitness', 'Community', 0.984),\n",
        "    ('Fitness', 'Team', 0.992),\n",
        "    ('Fitness', 'Studio', 0.993),\n",
        "    ('Club', 'Intent', 1),\n",
        "    ('Group', 'Intent', 1),\n",
        "    ('Class', 'Intent', 1),\n",
        "    ('Gym', 'Intent', 1),\n",
        "    ('Program', 'Intent', 1),\n",
        "    ('Center', 'Intent', 1),\n",
        "    ('Centre', 'Intent', 1),\n",
        "    ('Community', 'Intent', 1),\n",
        "    ('Team', 'Intent', 1),\n",
        "    ('Studio', 'Intent', 1),\n",
        "    \n",
        "]\n",
        "for edge in edges:\n",
        "    graph.add_edge(*edge)\n"
      ],
      "execution_count": 28,
      "outputs": []
    },
    {
      "cell_type": "code",
      "metadata": {
        "id": "_8AHelukfOVL"
      },
      "source": [
        "def dijsktra(graph, initial, end):\n",
        "    # the shortest paths is a dict of nodes\n",
        "    # whose value is a tuple of (previous node, weight)\n",
        "    shortest_paths = {initial: (None, 0)}\n",
        "    current_node = initial\n",
        "    visited = set()\n",
        "    \n",
        "    while current_node != end:\n",
        "        visited.add(current_node)\n",
        "        destinations = graph.edges[current_node]\n",
        "        weight_to_current_node = shortest_paths[current_node][1]\n",
        "\n",
        "        for next_node in destinations:\n",
        "            weight = graph.weights[(current_node, next_node)] + weight_to_current_node\n",
        "            if next_node not in shortest_paths:\n",
        "                shortest_paths[next_node] = (current_node, weight)\n",
        "            else:\n",
        "                current_shortest_weight = shortest_paths[next_node][1]\n",
        "                if current_shortest_weight > weight:\n",
        "                    shortest_paths[next_node] = (current_node, weight)\n",
        "        \n",
        "        next_destinations = {node: shortest_paths[node] for node in shortest_paths if node not in visited}\n",
        "        if not next_destinations:\n",
        "            return \"Route is hindered\"\n",
        "        # the next node is the Ngram with the lowest weight\n",
        "        current_node = min(next_destinations, key=lambda k: next_destinations[k][1])\n",
        "    \n",
        "    # determing the shortest path of fitness search terms concatenation\n",
        "    path = []\n",
        "    while current_node is not None:\n",
        "        path.append(current_node)\n",
        "        next_node = shortest_paths[current_node][0]\n",
        "        current_node = next_node\n",
        "    # Reverse path\n",
        "    path = path[::-1]\n",
        "    return path"
      ],
      "execution_count": 26,
      "outputs": []
    },
    {
      "cell_type": "code",
      "metadata": {
        "id": "indXWbKEiUAy",
        "outputId": "3a1970bd-98cd-492c-9d35-3458f6b00892",
        "colab": {
          "base_uri": "https://localhost:8080/"
        }
      },
      "source": [
        "dijsktra(graph, 'Fitness', 'Intent')"
      ],
      "execution_count": 27,
      "outputs": [
        {
          "output_type": "execute_result",
          "data": {
            "text/plain": [
              "['Fitness', 'Club', 'Intent']"
            ]
          },
          "metadata": {
            "tags": []
          },
          "execution_count": 27
        }
      ]
    }
  ]
}